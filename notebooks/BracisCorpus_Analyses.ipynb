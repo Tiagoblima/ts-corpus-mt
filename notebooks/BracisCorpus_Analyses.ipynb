{
 "nbformat": 4,
 "nbformat_minor": 0,
 "metadata": {
  "colab": {
   "name": "BracisCorpus-Analyses.ipynb",
   "provenance": [],
   "collapsed_sections": []
  },
  "kernelspec": {
   "name": "python3",
   "display_name": "Python 3"
  },
  "language_info": {
   "name": "python"
  }
 },
 "cells": [
  {
   "cell_type": "code",
   "metadata": {
    "colab": {
     "base_uri": "https://localhost:8080/",
     "height": 759
    },
    "id": "j5ZKJDRSl4N1",
    "outputId": "14d9c529-1c54-4dd6-ae06-cebcb064563b"
   },
   "source": [
    "import pandas as pd\n",
    "import numpy as np\n",
    "\n",
    "samples = pd.read_csv('samples.csv')\n"
   ],
   "execution_count": 3,
   "outputs": [
    {
     "output_type": "execute_result",
     "data": {
      "text/html": [
       "<div>\n",
       "<style scoped>\n",
       "    .dataframe tbody tr th:only-of-type {\n",
       "        vertical-align: middle;\n",
       "    }\n",
       "\n",
       "    .dataframe tbody tr th {\n",
       "        vertical-align: top;\n",
       "    }\n",
       "\n",
       "    .dataframe thead th {\n",
       "        text-align: right;\n",
       "    }\n",
       "</style>\n",
       "<table border=\"1\" class=\"dataframe\">\n",
       "  <thead>\n",
       "    <tr style=\"text-align: right;\">\n",
       "      <th></th>\n",
       "      <th>arc</th>\n",
       "      <th>naa</th>\n",
       "      <th>nbv</th>\n",
       "      <th>nlth</th>\n",
       "      <th>nvi</th>\n",
       "    </tr>\n",
       "  </thead>\n",
       "  <tbody>\n",
       "    <tr>\n",
       "      <th>3582</th>\n",
       "      <td>E junto a ele assentará as suas tendas a tribo...</td>\n",
       "      <td>E junto a ele acampará a tribo de Simeão; e Se...</td>\n",
       "      <td>A tribo de Simeão acampará ao lado de Rúben. O...</td>\n",
       "      <td>Ao lado deles acampará o exército da tribo de ...</td>\n",
       "      <td>A tribo de Simeão acampará ao lado de Rúben. O...</td>\n",
       "    </tr>\n",
       "    <tr>\n",
       "      <th>16398</th>\n",
       "      <td>Pela longanimidade se persuade o príncipe, e a...</td>\n",
       "      <td>Com paciência se convence um príncipe, e a lín...</td>\n",
       "      <td>Seja paciente e você persuadirá o príncipe; fa...</td>\n",
       "      <td>A paciência convence até as autoridades; a per...</td>\n",
       "      <td>Com muita paciência pode-se convencer a autori...</td>\n",
       "    </tr>\n",
       "    <tr>\n",
       "      <th>9004</th>\n",
       "      <td>E sucedeu que, à sétima vez, disse: Eis aqui u...</td>\n",
       "      <td>Na sétima vez o servo disse: — Eis que se leva...</td>\n",
       "      <td>Finalmente, na sétima vez, o servo exclamou: “...</td>\n",
       "      <td>Na sétima vez, ele voltou e disse: — Eu vi sub...</td>\n",
       "      <td>Na sétima vez o servo disse: “Uma nuvem tão pe...</td>\n",
       "    </tr>\n",
       "    <tr>\n",
       "      <th>26931</th>\n",
       "      <td>E, sendo-me notificado que os judeus haviam de...</td>\n",
       "      <td>Sendo eu informado de que ia haver uma embosca...</td>\n",
       "      <td>Mas quando fui informado de uma conspiração pa...</td>\n",
       "      <td>Quando fui informado de que havia um plano par...</td>\n",
       "      <td>Quando fui informado de que estava sendo prepa...</td>\n",
       "    </tr>\n",
       "    <tr>\n",
       "      <th>26955</th>\n",
       "      <td>os quais convinha que estivessem presentes per...</td>\n",
       "      <td>os quais deviam comparecer diante do senhor e ...</td>\n",
       "      <td>Mas estavam lá alguns judeus da província da Á...</td>\n",
       "      <td>Porém alguns judeus da província da Ásia estav...</td>\n",
       "      <td>Mas há alguns judeus da província da Ásia que ...</td>\n",
       "    </tr>\n",
       "    <tr>\n",
       "      <th>...</th>\n",
       "      <td>...</td>\n",
       "      <td>...</td>\n",
       "      <td>...</td>\n",
       "      <td>...</td>\n",
       "      <td>...</td>\n",
       "    </tr>\n",
       "    <tr>\n",
       "      <th>23907</th>\n",
       "      <td>Quando, pois, vos conduzirem para vos entregar...</td>\n",
       "      <td>— Quando, pois, levarem vocês para os entregar...</td>\n",
       "      <td>Mas quando vocês forem presos e submetidos a j...</td>\n",
       "      <td>Quando prenderem e entregarem vocês às autorid...</td>\n",
       "      <td>Sempre que forem presos e levados a julgamento...</td>\n",
       "    </tr>\n",
       "    <tr>\n",
       "      <th>22949</th>\n",
       "      <td>Assim não são mais dois, mas uma só carne. Por...</td>\n",
       "      <td>De modo que já não são mais dois, porém uma só...</td>\n",
       "      <td>Assim, eles não mais serão dois, mas sim uma s...</td>\n",
       "      <td>Assim já não são duas pessoas, mas uma só. Por...</td>\n",
       "      <td>Assim, eles já não são dois, mas sim uma só ca...</td>\n",
       "    </tr>\n",
       "    <tr>\n",
       "      <th>13992</th>\n",
       "      <td>Porque te não comprazes em sacrifícios, senão ...</td>\n",
       "      <td>Pois não te agradas de sacrifícios; do contrár...</td>\n",
       "      <td>O Senhor não se agrada de sacrifícios nem de o...</td>\n",
       "      <td>Tu não queres que eu te ofereça sacrifícios; t...</td>\n",
       "      <td>Não te deleitas em sacrifícios nem te agradas ...</td>\n",
       "    </tr>\n",
       "    <tr>\n",
       "      <th>28297</th>\n",
       "      <td>Mas agora, conhecendo a Deus ou, antes, sendo ...</td>\n",
       "      <td>Mas agora que vocês conhecem a Deus, ou melhor...</td>\n",
       "      <td>E agora que conheceram a Deus, ou melhor, agor...</td>\n",
       "      <td>Mas, agora que vocês conhecem a Deus, ou melho...</td>\n",
       "      <td>Mas agora, conhecendo a Deus, ou melhor, sendo...</td>\n",
       "    </tr>\n",
       "    <tr>\n",
       "      <th>19023</th>\n",
       "      <td>nem aos sacerdotes levíticos faltará varão dia...</td>\n",
       "      <td>nem aos sacerdotes levitas faltará homem diant...</td>\n",
       "      <td>E também não faltarão sacerdotes que são levit...</td>\n",
       "      <td>E sempre haverá sacerdotes da tribo de Levi pa...</td>\n",
       "      <td>nem os sacerdotes, que são levitas, deixarão d...</td>\n",
       "    </tr>\n",
       "  </tbody>\n",
       "</table>\n",
       "<p>303 rows × 5 columns</p>\n",
       "</div>"
      ],
      "text/plain": [
       "                                                     arc  ...                                                nvi\n",
       "3582   E junto a ele assentará as suas tendas a tribo...  ...  A tribo de Simeão acampará ao lado de Rúben. O...\n",
       "16398  Pela longanimidade se persuade o príncipe, e a...  ...  Com muita paciência pode-se convencer a autori...\n",
       "9004   E sucedeu que, à sétima vez, disse: Eis aqui u...  ...  Na sétima vez o servo disse: “Uma nuvem tão pe...\n",
       "26931  E, sendo-me notificado que os judeus haviam de...  ...  Quando fui informado de que estava sendo prepa...\n",
       "26955  os quais convinha que estivessem presentes per...  ...  Mas há alguns judeus da província da Ásia que ...\n",
       "...                                                  ...  ...                                                ...\n",
       "23907  Quando, pois, vos conduzirem para vos entregar...  ...  Sempre que forem presos e levados a julgamento...\n",
       "22949  Assim não são mais dois, mas uma só carne. Por...  ...  Assim, eles já não são dois, mas sim uma só ca...\n",
       "13992  Porque te não comprazes em sacrifícios, senão ...  ...  Não te deleitas em sacrifícios nem te agradas ...\n",
       "28297  Mas agora, conhecendo a Deus ou, antes, sendo ...  ...  Mas agora, conhecendo a Deus, ou melhor, sendo...\n",
       "19023  nem aos sacerdotes levíticos faltará varão dia...  ...  nem os sacerdotes, que são levitas, deixarão d...\n",
       "\n",
       "[303 rows x 5 columns]"
      ]
     },
     "metadata": {
      "tags": []
     },
     "execution_count": 3
    }
   ]
  },
  {
   "cell_type": "code",
   "metadata": {
    "id": "QsiwaEG7NSKD"
   },
   "source": [
    "for col in samples.columns:\n",
    "  np.savetxt(col+'.txt', samples[col].to_numpy(), fmt='%s')"
   ],
   "execution_count": 4,
   "outputs": []
  },
  {
   "cell_type": "code",
   "metadata": {
    "id": "mgN1hCx7mJ3W"
   },
   "source": [
    "from spacy.lang.pt import Portuguese\n",
    "nlp = Portuguese()\n",
    "nlp.add_pipe(nlp.create_pipe('sentencizer'))"
   ],
   "execution_count": 5,
   "outputs": []
  },
  {
   "cell_type": "code",
   "metadata": {
    "id": "u1fTf0E3orEM"
   },
   "source": [
    "def get_tokens_per_sent(sent_list):\n",
    "  print(len(sent_list[0]))"
   ],
   "execution_count": 6,
   "outputs": []
  },
  {
   "cell_type": "code",
   "metadata": {
    "id": "f7y8AN1Zbf4_"
   },
   "source": [
    "!mkdir samples/"
   ],
   "execution_count": 7,
   "outputs": []
  },
  {
   "cell_type": "code",
   "metadata": {
    "colab": {
     "base_uri": "https://localhost:8080/"
    },
    "id": "t4yqfnvyRUYK",
    "outputId": "107e6137-5876-4e8d-9f59-706a50e43a57"
   },
   "source": [
    "report_df = []\n",
    "\n",
    "for col in samples.columns:\n",
    "  sentence_list = []\n",
    "  for verse in samples[col].to_numpy():\n",
    "    sentence_list.extend(list(nlp(verse).sents))\n",
    "  \n",
    "  report_df.extend(list(map(lambda sent: {\"version\": col.upper(), \"tokens per sentence\":len(sent)}, sentence_list)))\n",
    "  np.savetxt(f'samples/{col}.txt', sentence_list, fmt='%s')\n",
    "\n"
   ],
   "execution_count": 27,
   "outputs": [
    {
     "output_type": "stream",
     "text": [
      "/usr/local/lib/python3.7/dist-packages/numpy/core/_asarray.py:83: VisibleDeprecationWarning: Creating an ndarray from ragged nested sequences (which is a list-or-tuple of lists-or-tuples-or ndarrays with different lengths or shapes) is deprecated. If you meant to do this, you must specify 'dtype=object' when creating the ndarray\n",
      "  return array(a, dtype, copy=False, order=order)\n"
     ],
     "name": "stderr"
    }
   ]
  },
  {
   "cell_type": "code",
   "metadata": {
    "id": "HFqtDtFlSURs"
   },
   "source": [
    "samples.to_csv('samples.csv')"
   ],
   "execution_count": 34,
   "outputs": []
  },
  {
   "cell_type": "code",
   "metadata": {
    "colab": {
     "base_uri": "https://localhost:8080/",
     "height": 419
    },
    "id": "p197RUnOXWut",
    "outputId": "3b88a333-d741-489b-8f48-44f7a9f77a69"
   },
   "source": [
    "report_df = pd.DataFrame(report_df)\n",
    "report_df"
   ],
   "execution_count": 28,
   "outputs": [
    {
     "output_type": "execute_result",
     "data": {
      "text/html": [
       "<div>\n",
       "<style scoped>\n",
       "    .dataframe tbody tr th:only-of-type {\n",
       "        vertical-align: middle;\n",
       "    }\n",
       "\n",
       "    .dataframe tbody tr th {\n",
       "        vertical-align: top;\n",
       "    }\n",
       "\n",
       "    .dataframe thead th {\n",
       "        text-align: right;\n",
       "    }\n",
       "</style>\n",
       "<table border=\"1\" class=\"dataframe\">\n",
       "  <thead>\n",
       "    <tr style=\"text-align: right;\">\n",
       "      <th></th>\n",
       "      <th>version</th>\n",
       "      <th>tokens per sentence</th>\n",
       "    </tr>\n",
       "  </thead>\n",
       "  <tbody>\n",
       "    <tr>\n",
       "      <th>0</th>\n",
       "      <td>ARC</td>\n",
       "      <td>27</td>\n",
       "    </tr>\n",
       "    <tr>\n",
       "      <th>1</th>\n",
       "      <td>ARC</td>\n",
       "      <td>19</td>\n",
       "    </tr>\n",
       "    <tr>\n",
       "      <th>2</th>\n",
       "      <td>ARC</td>\n",
       "      <td>15</td>\n",
       "    </tr>\n",
       "    <tr>\n",
       "      <th>3</th>\n",
       "      <td>ARC</td>\n",
       "      <td>27</td>\n",
       "    </tr>\n",
       "    <tr>\n",
       "      <th>4</th>\n",
       "      <td>ARC</td>\n",
       "      <td>26</td>\n",
       "    </tr>\n",
       "    <tr>\n",
       "      <th>...</th>\n",
       "      <td>...</td>\n",
       "      <td>...</td>\n",
       "    </tr>\n",
       "    <tr>\n",
       "      <th>2188</th>\n",
       "      <td>NVI</td>\n",
       "      <td>11</td>\n",
       "    </tr>\n",
       "    <tr>\n",
       "      <th>2189</th>\n",
       "      <td>NVI</td>\n",
       "      <td>16</td>\n",
       "    </tr>\n",
       "    <tr>\n",
       "      <th>2190</th>\n",
       "      <td>NVI</td>\n",
       "      <td>31</td>\n",
       "    </tr>\n",
       "    <tr>\n",
       "      <th>2191</th>\n",
       "      <td>NVI</td>\n",
       "      <td>8</td>\n",
       "    </tr>\n",
       "    <tr>\n",
       "      <th>2192</th>\n",
       "      <td>NVI</td>\n",
       "      <td>33</td>\n",
       "    </tr>\n",
       "  </tbody>\n",
       "</table>\n",
       "<p>2193 rows × 2 columns</p>\n",
       "</div>"
      ],
      "text/plain": [
       "     version  tokens per sentence\n",
       "0        ARC                   27\n",
       "1        ARC                   19\n",
       "2        ARC                   15\n",
       "3        ARC                   27\n",
       "4        ARC                   26\n",
       "...      ...                  ...\n",
       "2188     NVI                   11\n",
       "2189     NVI                   16\n",
       "2190     NVI                   31\n",
       "2191     NVI                    8\n",
       "2192     NVI                   33\n",
       "\n",
       "[2193 rows x 2 columns]"
      ]
     },
     "metadata": {
      "tags": []
     },
     "execution_count": 28
    }
   ]
  },
  {
   "cell_type": "code",
   "metadata": {
    "colab": {
     "base_uri": "https://localhost:8080/",
     "height": 419
    },
    "id": "JU6KwstYMAPu",
    "outputId": "9a7250ea-3bdb-4fd0-97cf-8d533256c2cb"
   },
   "source": [
    "samples1 = report_df.loc[(report_df['version']!='NLTH') & (report_df['version']!='NVI')]\n",
    "samples1"
   ],
   "execution_count": 31,
   "outputs": [
    {
     "output_type": "execute_result",
     "data": {
      "text/html": [
       "<div>\n",
       "<style scoped>\n",
       "    .dataframe tbody tr th:only-of-type {\n",
       "        vertical-align: middle;\n",
       "    }\n",
       "\n",
       "    .dataframe tbody tr th {\n",
       "        vertical-align: top;\n",
       "    }\n",
       "\n",
       "    .dataframe thead th {\n",
       "        text-align: right;\n",
       "    }\n",
       "</style>\n",
       "<table border=\"1\" class=\"dataframe\">\n",
       "  <thead>\n",
       "    <tr style=\"text-align: right;\">\n",
       "      <th></th>\n",
       "      <th>version</th>\n",
       "      <th>tokens per sentence</th>\n",
       "    </tr>\n",
       "  </thead>\n",
       "  <tbody>\n",
       "    <tr>\n",
       "      <th>0</th>\n",
       "      <td>ARC</td>\n",
       "      <td>27</td>\n",
       "    </tr>\n",
       "    <tr>\n",
       "      <th>1</th>\n",
       "      <td>ARC</td>\n",
       "      <td>19</td>\n",
       "    </tr>\n",
       "    <tr>\n",
       "      <th>2</th>\n",
       "      <td>ARC</td>\n",
       "      <td>15</td>\n",
       "    </tr>\n",
       "    <tr>\n",
       "      <th>3</th>\n",
       "      <td>ARC</td>\n",
       "      <td>27</td>\n",
       "    </tr>\n",
       "    <tr>\n",
       "      <th>4</th>\n",
       "      <td>ARC</td>\n",
       "      <td>26</td>\n",
       "    </tr>\n",
       "    <tr>\n",
       "      <th>...</th>\n",
       "      <td>...</td>\n",
       "      <td>...</td>\n",
       "    </tr>\n",
       "    <tr>\n",
       "      <th>1258</th>\n",
       "      <td>NBV</td>\n",
       "      <td>11</td>\n",
       "    </tr>\n",
       "    <tr>\n",
       "      <th>1259</th>\n",
       "      <td>NBV</td>\n",
       "      <td>12</td>\n",
       "    </tr>\n",
       "    <tr>\n",
       "      <th>1260</th>\n",
       "      <td>NBV</td>\n",
       "      <td>16</td>\n",
       "    </tr>\n",
       "    <tr>\n",
       "      <th>1261</th>\n",
       "      <td>NBV</td>\n",
       "      <td>39</td>\n",
       "    </tr>\n",
       "    <tr>\n",
       "      <th>1262</th>\n",
       "      <td>NBV</td>\n",
       "      <td>26</td>\n",
       "    </tr>\n",
       "  </tbody>\n",
       "</table>\n",
       "<p>1263 rows × 2 columns</p>\n",
       "</div>"
      ],
      "text/plain": [
       "     version  tokens per sentence\n",
       "0        ARC                   27\n",
       "1        ARC                   19\n",
       "2        ARC                   15\n",
       "3        ARC                   27\n",
       "4        ARC                   26\n",
       "...      ...                  ...\n",
       "1258     NBV                   11\n",
       "1259     NBV                   12\n",
       "1260     NBV                   16\n",
       "1261     NBV                   39\n",
       "1262     NBV                   26\n",
       "\n",
       "[1263 rows x 2 columns]"
      ]
     },
     "metadata": {
      "tags": []
     },
     "execution_count": 31
    }
   ]
  },
  {
   "cell_type": "code",
   "metadata": {
    "colab": {
     "base_uri": "https://localhost:8080/",
     "height": 419
    },
    "id": "RWOr6buGLowr",
    "outputId": "a66e9053-0d48-4148-f213-d2a524160bde"
   },
   "source": [
    "samples2 = report_df.loc[(report_df['version']=='NLTH') | (report_df['version']=='NVI')]\n",
    "samples2"
   ],
   "execution_count": 32,
   "outputs": [
    {
     "output_type": "execute_result",
     "data": {
      "text/html": [
       "<div>\n",
       "<style scoped>\n",
       "    .dataframe tbody tr th:only-of-type {\n",
       "        vertical-align: middle;\n",
       "    }\n",
       "\n",
       "    .dataframe tbody tr th {\n",
       "        vertical-align: top;\n",
       "    }\n",
       "\n",
       "    .dataframe thead th {\n",
       "        text-align: right;\n",
       "    }\n",
       "</style>\n",
       "<table border=\"1\" class=\"dataframe\">\n",
       "  <thead>\n",
       "    <tr style=\"text-align: right;\">\n",
       "      <th></th>\n",
       "      <th>version</th>\n",
       "      <th>tokens per sentence</th>\n",
       "    </tr>\n",
       "  </thead>\n",
       "  <tbody>\n",
       "    <tr>\n",
       "      <th>1263</th>\n",
       "      <td>NLTH</td>\n",
       "      <td>12</td>\n",
       "    </tr>\n",
       "    <tr>\n",
       "      <th>1264</th>\n",
       "      <td>NLTH</td>\n",
       "      <td>21</td>\n",
       "    </tr>\n",
       "    <tr>\n",
       "      <th>1265</th>\n",
       "      <td>NLTH</td>\n",
       "      <td>14</td>\n",
       "    </tr>\n",
       "    <tr>\n",
       "      <th>1266</th>\n",
       "      <td>NLTH</td>\n",
       "      <td>27</td>\n",
       "    </tr>\n",
       "    <tr>\n",
       "      <th>1267</th>\n",
       "      <td>NLTH</td>\n",
       "      <td>33</td>\n",
       "    </tr>\n",
       "    <tr>\n",
       "      <th>...</th>\n",
       "      <td>...</td>\n",
       "      <td>...</td>\n",
       "    </tr>\n",
       "    <tr>\n",
       "      <th>2188</th>\n",
       "      <td>NVI</td>\n",
       "      <td>11</td>\n",
       "    </tr>\n",
       "    <tr>\n",
       "      <th>2189</th>\n",
       "      <td>NVI</td>\n",
       "      <td>16</td>\n",
       "    </tr>\n",
       "    <tr>\n",
       "      <th>2190</th>\n",
       "      <td>NVI</td>\n",
       "      <td>31</td>\n",
       "    </tr>\n",
       "    <tr>\n",
       "      <th>2191</th>\n",
       "      <td>NVI</td>\n",
       "      <td>8</td>\n",
       "    </tr>\n",
       "    <tr>\n",
       "      <th>2192</th>\n",
       "      <td>NVI</td>\n",
       "      <td>33</td>\n",
       "    </tr>\n",
       "  </tbody>\n",
       "</table>\n",
       "<p>930 rows × 2 columns</p>\n",
       "</div>"
      ],
      "text/plain": [
       "     version  tokens per sentence\n",
       "1263    NLTH                   12\n",
       "1264    NLTH                   21\n",
       "1265    NLTH                   14\n",
       "1266    NLTH                   27\n",
       "1267    NLTH                   33\n",
       "...      ...                  ...\n",
       "2188     NVI                   11\n",
       "2189     NVI                   16\n",
       "2190     NVI                   31\n",
       "2191     NVI                    8\n",
       "2192     NVI                   33\n",
       "\n",
       "[930 rows x 2 columns]"
      ]
     },
     "metadata": {
      "tags": []
     },
     "execution_count": 32
    }
   ]
  },
  {
   "cell_type": "code",
   "metadata": {
    "colab": {
     "base_uri": "https://localhost:8080/",
     "height": 450
    },
    "id": "qRyNbMubNBEr",
    "outputId": "4e41438d-c719-43e6-a16b-bf2cf4820fc3"
   },
   "source": [
    "import seaborn as sns\n",
    "\n",
    "g = sns.FacetGrid(samples1, col=\"version\")\n",
    "g.map(sns.histplot, \"tokens per sentence\")\n",
    "g = sns.FacetGrid(samples2, col=\"version\")\n",
    "g.map(sns.histplot, \"tokens per sentence\")"
   ],
   "execution_count": 33,
   "outputs": [
    {
     "output_type": "execute_result",
     "data": {
      "text/plain": [
       "<seaborn.axisgrid.FacetGrid at 0x7f42370df050>"
      ]
     },
     "metadata": {
      "tags": []
     },
     "execution_count": 33
    },
    {
     "output_type": "display_data",
     "data": {
      "image/png": "[encoded data removed]",
      "text/plain": [
       "<Figure size 648x216 with 3 Axes>"
      ]
     },
     "metadata": {
      "tags": [],
      "needs_background": "light"
     }
    },
    {
     "output_type": "display_data",
     "data": {
      "image/png": "[encoded data removed]",
      "text/plain": [
       "<Figure size 432x216 with 2 Axes>"
      ]
     },
     "metadata": {
      "tags": [],
      "needs_background": "light"
     }
    }
   ]
  },
  {
   "cell_type": "code",
   "metadata": {
    "id": "A_fRlSQ8byRm",
    "colab": {
     "base_uri": "https://localhost:8080/"
    },
    "outputId": "d84a562a-802e-41b1-d88e-3d7d8c6fc530"
   },
   "source": [
    "!zip -r samples.zip samples/"
   ],
   "execution_count": 26,
   "outputs": [
    {
     "output_type": "stream",
     "text": [
      "  adding: samples/ (stored 0%)\n",
      "  adding: samples/nbv.txt (deflated 59%)\n",
      "  adding: samples/nlth.txt (deflated 60%)\n",
      "  adding: samples/nvi.txt (deflated 58%)\n",
      "  adding: samples/arc.txt (deflated 59%)\n",
      "  adding: samples/naa.txt (deflated 60%)\n"
     ],
     "name": "stdout"
    }
   ]
  }
 ]
}